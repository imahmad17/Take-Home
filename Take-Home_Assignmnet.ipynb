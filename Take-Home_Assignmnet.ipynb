{
  "nbformat": 4,
  "nbformat_minor": 0,
  "metadata": {
    "colab": {
      "provenance": [],
      "collapsed_sections": [
        "IQc4OPQrBoKZ",
        "wzWjfvZkBdyz"
      ]
    },
    "kernelspec": {
      "name": "python3",
      "display_name": "Python 3"
    },
    "language_info": {
      "name": "python"
    }
  },
  "cells": [
    {
      "cell_type": "code",
      "execution_count": null,
      "metadata": {
        "id": "hcLUYX3__Mzy"
      },
      "outputs": [],
      "source": [
        "!pip install yahooquery"
      ]
    },
    {
      "cell_type": "code",
      "source": [
        "import pandas as pd\n",
        "import yahooquery as yq"
      ],
      "metadata": {
        "id": "mNFxGhk1_XMu"
      },
      "execution_count": 2,
      "outputs": []
    },
    {
      "cell_type": "code",
      "source": [
        "tick = 'aapl'"
      ],
      "metadata": {
        "id": "vUia3p0cB_R1"
      },
      "execution_count": 8,
      "outputs": []
    },
    {
      "cell_type": "code",
      "source": [
        "ticker = yq.Ticker(tick)\n",
        "ticker"
      ],
      "metadata": {
        "colab": {
          "base_uri": "https://localhost:8080/"
        },
        "id": "Gd7tigzO_iqt",
        "outputId": "3d903c1d-d282-4793-eeaf-7364c9e06813"
      },
      "execution_count": 9,
      "outputs": [
        {
          "output_type": "execute_result",
          "data": {
            "text/plain": [
              "<yahooquery.ticker.Ticker at 0x7f5958f80af0>"
            ]
          },
          "metadata": {},
          "execution_count": 9
        }
      ]
    },
    {
      "cell_type": "markdown",
      "source": [
        "##Last Close Price"
      ],
      "metadata": {
        "id": "IQc4OPQrBoKZ"
      }
    },
    {
      "cell_type": "code",
      "source": [
        "ticker_summary = ticker.summary_detail[tick]\n",
        "ticker_summary.keys()"
      ],
      "metadata": {
        "colab": {
          "base_uri": "https://localhost:8080/"
        },
        "id": "TXrQfzQ3_0W0",
        "outputId": "d58c6c41-39a4-4ed0-e722-0149a65802a7"
      },
      "execution_count": 10,
      "outputs": [
        {
          "output_type": "execute_result",
          "data": {
            "text/plain": [
              "dict_keys(['maxAge', 'priceHint', 'previousClose', 'open', 'dayLow', 'dayHigh', 'regularMarketPreviousClose', 'regularMarketOpen', 'regularMarketDayLow', 'regularMarketDayHigh', 'dividendRate', 'dividendYield', 'exDividendDate', 'payoutRatio', 'fiveYearAvgDividendYield', 'beta', 'trailingPE', 'forwardPE', 'volume', 'regularMarketVolume', 'averageVolume', 'averageVolume10days', 'averageDailyVolume10Day', 'bid', 'ask', 'bidSize', 'askSize', 'marketCap', 'fiftyTwoWeekLow', 'fiftyTwoWeekHigh', 'priceToSalesTrailing12Months', 'fiftyDayAverage', 'twoHundredDayAverage', 'trailingAnnualDividendRate', 'trailingAnnualDividendYield', 'currency', 'fromCurrency', 'toCurrency', 'lastMarket', 'coinMarketCapLink', 'algorithm', 'tradeable'])"
            ]
          },
          "metadata": {},
          "execution_count": 10
        }
      ]
    },
    {
      "cell_type": "code",
      "source": [
        "#Last Close Price\n",
        "last_close_price = ticker_summary['previousClose']\n",
        "last_close_price"
      ],
      "metadata": {
        "colab": {
          "base_uri": "https://localhost:8080/"
        },
        "id": "6D1tp8sV_4mE",
        "outputId": "39e443c1-4092-439b-9fd8-93d5a90f85ae"
      },
      "execution_count": 11,
      "outputs": [
        {
          "output_type": "execute_result",
          "data": {
            "text/plain": [
              "179.58"
            ]
          },
          "metadata": {},
          "execution_count": 11
        }
      ]
    },
    {
      "cell_type": "markdown",
      "source": [
        "##Operating Margin (%): Average of operating margins last 4 quarterly reports\n",
        "$\\text{Operation Margin} = \\frac{\\text{Operation Income}}{\\text{Revenue}}$\n"
      ],
      "metadata": {
        "id": "8qemgsZWKHZC"
      }
    },
    {
      "cell_type": "code",
      "source": [
        "op_fin = ['TotalOperatingIncomeAsReported', 'TotalRevenue']\n",
        "op_margin_data = ticker.get_financial_data(op_fin,'q',trailing=False).iloc[-4:,:]"
      ],
      "metadata": {
        "id": "vs5iGVvfCwHW"
      },
      "execution_count": 22,
      "outputs": []
    },
    {
      "cell_type": "code",
      "source": [
        "op_margin_data['OperationMargin'] = op_margin_data['TotalOperatingIncomeAsReported']/ op_margin_data['TotalRevenue']\n",
        "op_margin_data"
      ],
      "metadata": {
        "colab": {
          "base_uri": "https://localhost:8080/",
          "height": 206
        },
        "id": "iDUnGQq5IcO_",
        "outputId": "a769a5c2-7c87-4796-d31b-7d3f4064525d"
      },
      "execution_count": 23,
      "outputs": [
        {
          "output_type": "execute_result",
          "data": {
            "text/plain": [
              "         asOfDate periodType currencyCode  TotalOperatingIncomeAsReported  \\\n",
              "symbol                                                                      \n",
              "aapl   2022-06-30         3M          USD                    2.307600e+10   \n",
              "aapl   2022-09-30         3M          USD                    2.489400e+10   \n",
              "aapl   2022-12-31         3M          USD                    3.601600e+10   \n",
              "aapl   2023-03-31         3M          USD                    2.831800e+10   \n",
              "\n",
              "        TotalRevenue  OperationMargin  \n",
              "symbol                                 \n",
              "aapl    8.295900e+10         0.278162  \n",
              "aapl    9.014600e+10         0.276152  \n",
              "aapl    1.171540e+11         0.307424  \n",
              "aapl    9.483600e+10         0.298600  "
            ],
            "text/html": [
              "\n",
              "  <div id=\"df-e4b430bb-3f93-4280-8391-8aebcc04a7e2\">\n",
              "    <div class=\"colab-df-container\">\n",
              "      <div>\n",
              "<style scoped>\n",
              "    .dataframe tbody tr th:only-of-type {\n",
              "        vertical-align: middle;\n",
              "    }\n",
              "\n",
              "    .dataframe tbody tr th {\n",
              "        vertical-align: top;\n",
              "    }\n",
              "\n",
              "    .dataframe thead th {\n",
              "        text-align: right;\n",
              "    }\n",
              "</style>\n",
              "<table border=\"1\" class=\"dataframe\">\n",
              "  <thead>\n",
              "    <tr style=\"text-align: right;\">\n",
              "      <th></th>\n",
              "      <th>asOfDate</th>\n",
              "      <th>periodType</th>\n",
              "      <th>currencyCode</th>\n",
              "      <th>TotalOperatingIncomeAsReported</th>\n",
              "      <th>TotalRevenue</th>\n",
              "      <th>OperationMargin</th>\n",
              "    </tr>\n",
              "    <tr>\n",
              "      <th>symbol</th>\n",
              "      <th></th>\n",
              "      <th></th>\n",
              "      <th></th>\n",
              "      <th></th>\n",
              "      <th></th>\n",
              "      <th></th>\n",
              "    </tr>\n",
              "  </thead>\n",
              "  <tbody>\n",
              "    <tr>\n",
              "      <th>aapl</th>\n",
              "      <td>2022-06-30</td>\n",
              "      <td>3M</td>\n",
              "      <td>USD</td>\n",
              "      <td>2.307600e+10</td>\n",
              "      <td>8.295900e+10</td>\n",
              "      <td>0.278162</td>\n",
              "    </tr>\n",
              "    <tr>\n",
              "      <th>aapl</th>\n",
              "      <td>2022-09-30</td>\n",
              "      <td>3M</td>\n",
              "      <td>USD</td>\n",
              "      <td>2.489400e+10</td>\n",
              "      <td>9.014600e+10</td>\n",
              "      <td>0.276152</td>\n",
              "    </tr>\n",
              "    <tr>\n",
              "      <th>aapl</th>\n",
              "      <td>2022-12-31</td>\n",
              "      <td>3M</td>\n",
              "      <td>USD</td>\n",
              "      <td>3.601600e+10</td>\n",
              "      <td>1.171540e+11</td>\n",
              "      <td>0.307424</td>\n",
              "    </tr>\n",
              "    <tr>\n",
              "      <th>aapl</th>\n",
              "      <td>2023-03-31</td>\n",
              "      <td>3M</td>\n",
              "      <td>USD</td>\n",
              "      <td>2.831800e+10</td>\n",
              "      <td>9.483600e+10</td>\n",
              "      <td>0.298600</td>\n",
              "    </tr>\n",
              "  </tbody>\n",
              "</table>\n",
              "</div>\n",
              "      <button class=\"colab-df-convert\" onclick=\"convertToInteractive('df-e4b430bb-3f93-4280-8391-8aebcc04a7e2')\"\n",
              "              title=\"Convert this dataframe to an interactive table.\"\n",
              "              style=\"display:none;\">\n",
              "        \n",
              "  <svg xmlns=\"http://www.w3.org/2000/svg\" height=\"24px\"viewBox=\"0 0 24 24\"\n",
              "       width=\"24px\">\n",
              "    <path d=\"M0 0h24v24H0V0z\" fill=\"none\"/>\n",
              "    <path d=\"M18.56 5.44l.94 2.06.94-2.06 2.06-.94-2.06-.94-.94-2.06-.94 2.06-2.06.94zm-11 1L8.5 8.5l.94-2.06 2.06-.94-2.06-.94L8.5 2.5l-.94 2.06-2.06.94zm10 10l.94 2.06.94-2.06 2.06-.94-2.06-.94-.94-2.06-.94 2.06-2.06.94z\"/><path d=\"M17.41 7.96l-1.37-1.37c-.4-.4-.92-.59-1.43-.59-.52 0-1.04.2-1.43.59L10.3 9.45l-7.72 7.72c-.78.78-.78 2.05 0 2.83L4 21.41c.39.39.9.59 1.41.59.51 0 1.02-.2 1.41-.59l7.78-7.78 2.81-2.81c.8-.78.8-2.07 0-2.86zM5.41 20L4 18.59l7.72-7.72 1.47 1.35L5.41 20z\"/>\n",
              "  </svg>\n",
              "      </button>\n",
              "      \n",
              "  <style>\n",
              "    .colab-df-container {\n",
              "      display:flex;\n",
              "      flex-wrap:wrap;\n",
              "      gap: 12px;\n",
              "    }\n",
              "\n",
              "    .colab-df-convert {\n",
              "      background-color: #E8F0FE;\n",
              "      border: none;\n",
              "      border-radius: 50%;\n",
              "      cursor: pointer;\n",
              "      display: none;\n",
              "      fill: #1967D2;\n",
              "      height: 32px;\n",
              "      padding: 0 0 0 0;\n",
              "      width: 32px;\n",
              "    }\n",
              "\n",
              "    .colab-df-convert:hover {\n",
              "      background-color: #E2EBFA;\n",
              "      box-shadow: 0px 1px 2px rgba(60, 64, 67, 0.3), 0px 1px 3px 1px rgba(60, 64, 67, 0.15);\n",
              "      fill: #174EA6;\n",
              "    }\n",
              "\n",
              "    [theme=dark] .colab-df-convert {\n",
              "      background-color: #3B4455;\n",
              "      fill: #D2E3FC;\n",
              "    }\n",
              "\n",
              "    [theme=dark] .colab-df-convert:hover {\n",
              "      background-color: #434B5C;\n",
              "      box-shadow: 0px 1px 3px 1px rgba(0, 0, 0, 0.15);\n",
              "      filter: drop-shadow(0px 1px 2px rgba(0, 0, 0, 0.3));\n",
              "      fill: #FFFFFF;\n",
              "    }\n",
              "  </style>\n",
              "\n",
              "      <script>\n",
              "        const buttonEl =\n",
              "          document.querySelector('#df-e4b430bb-3f93-4280-8391-8aebcc04a7e2 button.colab-df-convert');\n",
              "        buttonEl.style.display =\n",
              "          google.colab.kernel.accessAllowed ? 'block' : 'none';\n",
              "\n",
              "        async function convertToInteractive(key) {\n",
              "          const element = document.querySelector('#df-e4b430bb-3f93-4280-8391-8aebcc04a7e2');\n",
              "          const dataTable =\n",
              "            await google.colab.kernel.invokeFunction('convertToInteractive',\n",
              "                                                     [key], {});\n",
              "          if (!dataTable) return;\n",
              "\n",
              "          const docLinkHtml = 'Like what you see? Visit the ' +\n",
              "            '<a target=\"_blank\" href=https://colab.research.google.com/notebooks/data_table.ipynb>data table notebook</a>'\n",
              "            + ' to learn more about interactive tables.';\n",
              "          element.innerHTML = '';\n",
              "          dataTable['output_type'] = 'display_data';\n",
              "          await google.colab.output.renderOutput(dataTable, element);\n",
              "          const docLink = document.createElement('div');\n",
              "          docLink.innerHTML = docLinkHtml;\n",
              "          element.appendChild(docLink);\n",
              "        }\n",
              "      </script>\n",
              "    </div>\n",
              "  </div>\n",
              "  "
            ]
          },
          "metadata": {},
          "execution_count": 23
        }
      ]
    },
    {
      "cell_type": "code",
      "source": [
        "op_margin_data['OperationMargin'].mean()"
      ],
      "metadata": {
        "colab": {
          "base_uri": "https://localhost:8080/"
        },
        "id": "QJfXrHmHJ6co",
        "outputId": "f2568bc3-ba1a-46a3-cd42-890fdded1003"
      },
      "execution_count": 24,
      "outputs": [
        {
          "output_type": "execute_result",
          "data": {
            "text/plain": [
              "0.2900844062823699"
            ]
          },
          "metadata": {},
          "execution_count": 24
        }
      ]
    },
    {
      "cell_type": "markdown",
      "source": [
        "##EV / (EBITDA - Capex): Enterprise value / (EBITDA - Capital Expenditure) [from last annual financial statement]\n",
        "$\\text{EBITDA}=\\text{EBIT}+\\text{D&A}\n",
        "\\\\\\frac{\\text{EV}}{(\\text{EBITDA}-\\text{CapEx})}=\\frac{\\text{EV}}{(\\text{EBIT}+\\text{D&A}-\\text{CapEx})}$"
      ],
      "metadata": {
        "id": "szfBQzmxUFKb"
      }
    },
    {
      "cell_type": "code",
      "source": [
        "last_ann_rep_date = ticker.income_statement(trailing=False)['asOfDate'][-1]"
      ],
      "metadata": {
        "id": "_kYVCZg4jvZV"
      },
      "execution_count": 97,
      "outputs": []
    },
    {
      "cell_type": "code",
      "source": [
        "income_statement = ticker.income_statement(trailing=False)\n",
        "income_statement = income_statement[income_statement['asOfDate']==last_ann_rep_date]\n",
        "ebit = income_statement['EBIT'].values\n",
        "ebit"
      ],
      "metadata": {
        "colab": {
          "base_uri": "https://localhost:8080/"
        },
        "id": "VHCHkOC8dF8Q",
        "outputId": "d07d2ced-6af7-4621-e75f-cd91823f5fd4"
      },
      "execution_count": 98,
      "outputs": [
        {
          "output_type": "execute_result",
          "data": {
            "text/plain": [
              "array([1.19437e+11])"
            ]
          },
          "metadata": {},
          "execution_count": 98
        }
      ]
    },
    {
      "cell_type": "code",
      "source": [
        "cashflow = ticker.cash_flow(trailing=False)[['asOfDate', 'CapitalExpenditure', 'DepreciationAndAmortization' ]]\n",
        "cashflow = cashflow[cashflow['asOfDate']==last_ann_rep_date]\n",
        "variable = pd.DataFrame(cashflow[['CapitalExpenditure', 'DepreciationAndAmortization']].values, index = cashflow['asOfDate'], columns = ['CapitalExpenditure', 'DepreciationAndAmortization' ])\n",
        "variable['EBIT'] = ebit\n",
        "variable['EBITDA'] =  variable['DepreciationAndAmortization'] + variable['EBIT']\n",
        "variable['EBITDA-Capex'] = variable['EBITDA'] - variable['CapitalExpenditure']\n",
        "variable"
      ],
      "metadata": {
        "colab": {
          "base_uri": "https://localhost:8080/",
          "height": 112
        },
        "id": "1ZebS-wuS2cs",
        "outputId": "22f15e26-efba-4542-fde2-6767c8ecb8eb"
      },
      "execution_count": 99,
      "outputs": [
        {
          "output_type": "execute_result",
          "data": {
            "text/plain": [
              "            CapitalExpenditure  DepreciationAndAmortization          EBIT  \\\n",
              "asOfDate                                                                    \n",
              "2022-09-30       -1.070800e+10                 1.110400e+10  1.194370e+11   \n",
              "\n",
              "                  EBITDA  EBITDA-Capex  \n",
              "asOfDate                                \n",
              "2022-09-30  1.305410e+11  1.412490e+11  "
            ],
            "text/html": [
              "\n",
              "  <div id=\"df-db4bef8d-ee9f-4a2f-b691-ef08e34fe36c\">\n",
              "    <div class=\"colab-df-container\">\n",
              "      <div>\n",
              "<style scoped>\n",
              "    .dataframe tbody tr th:only-of-type {\n",
              "        vertical-align: middle;\n",
              "    }\n",
              "\n",
              "    .dataframe tbody tr th {\n",
              "        vertical-align: top;\n",
              "    }\n",
              "\n",
              "    .dataframe thead th {\n",
              "        text-align: right;\n",
              "    }\n",
              "</style>\n",
              "<table border=\"1\" class=\"dataframe\">\n",
              "  <thead>\n",
              "    <tr style=\"text-align: right;\">\n",
              "      <th></th>\n",
              "      <th>CapitalExpenditure</th>\n",
              "      <th>DepreciationAndAmortization</th>\n",
              "      <th>EBIT</th>\n",
              "      <th>EBITDA</th>\n",
              "      <th>EBITDA-Capex</th>\n",
              "    </tr>\n",
              "    <tr>\n",
              "      <th>asOfDate</th>\n",
              "      <th></th>\n",
              "      <th></th>\n",
              "      <th></th>\n",
              "      <th></th>\n",
              "      <th></th>\n",
              "    </tr>\n",
              "  </thead>\n",
              "  <tbody>\n",
              "    <tr>\n",
              "      <th>2022-09-30</th>\n",
              "      <td>-1.070800e+10</td>\n",
              "      <td>1.110400e+10</td>\n",
              "      <td>1.194370e+11</td>\n",
              "      <td>1.305410e+11</td>\n",
              "      <td>1.412490e+11</td>\n",
              "    </tr>\n",
              "  </tbody>\n",
              "</table>\n",
              "</div>\n",
              "      <button class=\"colab-df-convert\" onclick=\"convertToInteractive('df-db4bef8d-ee9f-4a2f-b691-ef08e34fe36c')\"\n",
              "              title=\"Convert this dataframe to an interactive table.\"\n",
              "              style=\"display:none;\">\n",
              "        \n",
              "  <svg xmlns=\"http://www.w3.org/2000/svg\" height=\"24px\"viewBox=\"0 0 24 24\"\n",
              "       width=\"24px\">\n",
              "    <path d=\"M0 0h24v24H0V0z\" fill=\"none\"/>\n",
              "    <path d=\"M18.56 5.44l.94 2.06.94-2.06 2.06-.94-2.06-.94-.94-2.06-.94 2.06-2.06.94zm-11 1L8.5 8.5l.94-2.06 2.06-.94-2.06-.94L8.5 2.5l-.94 2.06-2.06.94zm10 10l.94 2.06.94-2.06 2.06-.94-2.06-.94-.94-2.06-.94 2.06-2.06.94z\"/><path d=\"M17.41 7.96l-1.37-1.37c-.4-.4-.92-.59-1.43-.59-.52 0-1.04.2-1.43.59L10.3 9.45l-7.72 7.72c-.78.78-.78 2.05 0 2.83L4 21.41c.39.39.9.59 1.41.59.51 0 1.02-.2 1.41-.59l7.78-7.78 2.81-2.81c.8-.78.8-2.07 0-2.86zM5.41 20L4 18.59l7.72-7.72 1.47 1.35L5.41 20z\"/>\n",
              "  </svg>\n",
              "      </button>\n",
              "      \n",
              "  <style>\n",
              "    .colab-df-container {\n",
              "      display:flex;\n",
              "      flex-wrap:wrap;\n",
              "      gap: 12px;\n",
              "    }\n",
              "\n",
              "    .colab-df-convert {\n",
              "      background-color: #E8F0FE;\n",
              "      border: none;\n",
              "      border-radius: 50%;\n",
              "      cursor: pointer;\n",
              "      display: none;\n",
              "      fill: #1967D2;\n",
              "      height: 32px;\n",
              "      padding: 0 0 0 0;\n",
              "      width: 32px;\n",
              "    }\n",
              "\n",
              "    .colab-df-convert:hover {\n",
              "      background-color: #E2EBFA;\n",
              "      box-shadow: 0px 1px 2px rgba(60, 64, 67, 0.3), 0px 1px 3px 1px rgba(60, 64, 67, 0.15);\n",
              "      fill: #174EA6;\n",
              "    }\n",
              "\n",
              "    [theme=dark] .colab-df-convert {\n",
              "      background-color: #3B4455;\n",
              "      fill: #D2E3FC;\n",
              "    }\n",
              "\n",
              "    [theme=dark] .colab-df-convert:hover {\n",
              "      background-color: #434B5C;\n",
              "      box-shadow: 0px 1px 3px 1px rgba(0, 0, 0, 0.15);\n",
              "      filter: drop-shadow(0px 1px 2px rgba(0, 0, 0, 0.3));\n",
              "      fill: #FFFFFF;\n",
              "    }\n",
              "  </style>\n",
              "\n",
              "      <script>\n",
              "        const buttonEl =\n",
              "          document.querySelector('#df-db4bef8d-ee9f-4a2f-b691-ef08e34fe36c button.colab-df-convert');\n",
              "        buttonEl.style.display =\n",
              "          google.colab.kernel.accessAllowed ? 'block' : 'none';\n",
              "\n",
              "        async function convertToInteractive(key) {\n",
              "          const element = document.querySelector('#df-db4bef8d-ee9f-4a2f-b691-ef08e34fe36c');\n",
              "          const dataTable =\n",
              "            await google.colab.kernel.invokeFunction('convertToInteractive',\n",
              "                                                     [key], {});\n",
              "          if (!dataTable) return;\n",
              "\n",
              "          const docLinkHtml = 'Like what you see? Visit the ' +\n",
              "            '<a target=\"_blank\" href=https://colab.research.google.com/notebooks/data_table.ipynb>data table notebook</a>'\n",
              "            + ' to learn more about interactive tables.';\n",
              "          element.innerHTML = '';\n",
              "          dataTable['output_type'] = 'display_data';\n",
              "          await google.colab.output.renderOutput(dataTable, element);\n",
              "          const docLink = document.createElement('div');\n",
              "          docLink.innerHTML = docLinkHtml;\n",
              "          element.appendChild(docLink);\n",
              "        }\n",
              "      </script>\n",
              "    </div>\n",
              "  </div>\n",
              "  "
            ]
          },
          "metadata": {},
          "execution_count": 99
        }
      ]
    },
    {
      "cell_type": "code",
      "source": [
        "ev = ticker.valuation_measures[['asOfDate','EnterpriseValue']]\n",
        "ev = ev[ev['asOfDate']==last_ann_rep_date]['EnterpriseValue'].values\n",
        "ev"
      ],
      "metadata": {
        "colab": {
          "base_uri": "https://localhost:8080/"
        },
        "id": "Iniu47CSjhdc",
        "outputId": "79bbd0e7-f196-457f-82fc-4899c278f2df"
      },
      "execution_count": 102,
      "outputs": [
        {
          "output_type": "execute_result",
          "data": {
            "text/plain": [
              "array([2.27484134e+12])"
            ]
          },
          "metadata": {},
          "execution_count": 102
        }
      ]
    },
    {
      "cell_type": "code",
      "source": [
        "ev_ebitda_capex_ratio = ev/variable['EBITDA-Capex'].values\n",
        "ev_ebitda_capex_ratio"
      ],
      "metadata": {
        "colab": {
          "base_uri": "https://localhost:8080/"
        },
        "id": "p0DFTnQtk6hF",
        "outputId": "2c9d4fcc-749e-4741-9f3c-442be3e8906f"
      },
      "execution_count": 106,
      "outputs": [
        {
          "output_type": "execute_result",
          "data": {
            "text/plain": [
              "array([16.10518542])"
            ]
          },
          "metadata": {},
          "execution_count": 106
        }
      ]
    },
    {
      "cell_type": "markdown",
      "source": [
        "##Revenue - 1 year annualized growth (%)"
      ],
      "metadata": {
        "id": "6mKQJqKDLbf6"
      }
    },
    {
      "cell_type": "code",
      "source": [
        "rev = ['TotalRevenue']\n",
        "revenue = ticker.get_financial_data(rev,'a',trailing=False)\n",
        "revenue['AnnalizedGrwoth'] = revenue['TotalRevenue'].pct_change()\n",
        "revenue"
      ],
      "metadata": {
        "colab": {
          "base_uri": "https://localhost:8080/",
          "height": 206
        },
        "id": "-UXPfiqrKEop",
        "outputId": "4b434cf8-0f49-4e9a-c790-483f2ad4e004"
      },
      "execution_count": 47,
      "outputs": [
        {
          "output_type": "execute_result",
          "data": {
            "text/plain": [
              "         asOfDate periodType currencyCode  TotalRevenue  AnnalizedGrwoth\n",
              "symbol                                                                  \n",
              "aapl   2019-09-30        12M          USD  2.601740e+11              NaN\n",
              "aapl   2020-09-30        12M          USD  2.745150e+11         0.055121\n",
              "aapl   2021-09-30        12M          USD  3.658170e+11         0.332594\n",
              "aapl   2022-09-30        12M          USD  3.943280e+11         0.077938"
            ],
            "text/html": [
              "\n",
              "  <div id=\"df-c84a0d69-04a5-44f5-b70f-0a3def947846\">\n",
              "    <div class=\"colab-df-container\">\n",
              "      <div>\n",
              "<style scoped>\n",
              "    .dataframe tbody tr th:only-of-type {\n",
              "        vertical-align: middle;\n",
              "    }\n",
              "\n",
              "    .dataframe tbody tr th {\n",
              "        vertical-align: top;\n",
              "    }\n",
              "\n",
              "    .dataframe thead th {\n",
              "        text-align: right;\n",
              "    }\n",
              "</style>\n",
              "<table border=\"1\" class=\"dataframe\">\n",
              "  <thead>\n",
              "    <tr style=\"text-align: right;\">\n",
              "      <th></th>\n",
              "      <th>asOfDate</th>\n",
              "      <th>periodType</th>\n",
              "      <th>currencyCode</th>\n",
              "      <th>TotalRevenue</th>\n",
              "      <th>AnnalizedGrwoth</th>\n",
              "    </tr>\n",
              "    <tr>\n",
              "      <th>symbol</th>\n",
              "      <th></th>\n",
              "      <th></th>\n",
              "      <th></th>\n",
              "      <th></th>\n",
              "      <th></th>\n",
              "    </tr>\n",
              "  </thead>\n",
              "  <tbody>\n",
              "    <tr>\n",
              "      <th>aapl</th>\n",
              "      <td>2019-09-30</td>\n",
              "      <td>12M</td>\n",
              "      <td>USD</td>\n",
              "      <td>2.601740e+11</td>\n",
              "      <td>NaN</td>\n",
              "    </tr>\n",
              "    <tr>\n",
              "      <th>aapl</th>\n",
              "      <td>2020-09-30</td>\n",
              "      <td>12M</td>\n",
              "      <td>USD</td>\n",
              "      <td>2.745150e+11</td>\n",
              "      <td>0.055121</td>\n",
              "    </tr>\n",
              "    <tr>\n",
              "      <th>aapl</th>\n",
              "      <td>2021-09-30</td>\n",
              "      <td>12M</td>\n",
              "      <td>USD</td>\n",
              "      <td>3.658170e+11</td>\n",
              "      <td>0.332594</td>\n",
              "    </tr>\n",
              "    <tr>\n",
              "      <th>aapl</th>\n",
              "      <td>2022-09-30</td>\n",
              "      <td>12M</td>\n",
              "      <td>USD</td>\n",
              "      <td>3.943280e+11</td>\n",
              "      <td>0.077938</td>\n",
              "    </tr>\n",
              "  </tbody>\n",
              "</table>\n",
              "</div>\n",
              "      <button class=\"colab-df-convert\" onclick=\"convertToInteractive('df-c84a0d69-04a5-44f5-b70f-0a3def947846')\"\n",
              "              title=\"Convert this dataframe to an interactive table.\"\n",
              "              style=\"display:none;\">\n",
              "        \n",
              "  <svg xmlns=\"http://www.w3.org/2000/svg\" height=\"24px\"viewBox=\"0 0 24 24\"\n",
              "       width=\"24px\">\n",
              "    <path d=\"M0 0h24v24H0V0z\" fill=\"none\"/>\n",
              "    <path d=\"M18.56 5.44l.94 2.06.94-2.06 2.06-.94-2.06-.94-.94-2.06-.94 2.06-2.06.94zm-11 1L8.5 8.5l.94-2.06 2.06-.94-2.06-.94L8.5 2.5l-.94 2.06-2.06.94zm10 10l.94 2.06.94-2.06 2.06-.94-2.06-.94-.94-2.06-.94 2.06-2.06.94z\"/><path d=\"M17.41 7.96l-1.37-1.37c-.4-.4-.92-.59-1.43-.59-.52 0-1.04.2-1.43.59L10.3 9.45l-7.72 7.72c-.78.78-.78 2.05 0 2.83L4 21.41c.39.39.9.59 1.41.59.51 0 1.02-.2 1.41-.59l7.78-7.78 2.81-2.81c.8-.78.8-2.07 0-2.86zM5.41 20L4 18.59l7.72-7.72 1.47 1.35L5.41 20z\"/>\n",
              "  </svg>\n",
              "      </button>\n",
              "      \n",
              "  <style>\n",
              "    .colab-df-container {\n",
              "      display:flex;\n",
              "      flex-wrap:wrap;\n",
              "      gap: 12px;\n",
              "    }\n",
              "\n",
              "    .colab-df-convert {\n",
              "      background-color: #E8F0FE;\n",
              "      border: none;\n",
              "      border-radius: 50%;\n",
              "      cursor: pointer;\n",
              "      display: none;\n",
              "      fill: #1967D2;\n",
              "      height: 32px;\n",
              "      padding: 0 0 0 0;\n",
              "      width: 32px;\n",
              "    }\n",
              "\n",
              "    .colab-df-convert:hover {\n",
              "      background-color: #E2EBFA;\n",
              "      box-shadow: 0px 1px 2px rgba(60, 64, 67, 0.3), 0px 1px 3px 1px rgba(60, 64, 67, 0.15);\n",
              "      fill: #174EA6;\n",
              "    }\n",
              "\n",
              "    [theme=dark] .colab-df-convert {\n",
              "      background-color: #3B4455;\n",
              "      fill: #D2E3FC;\n",
              "    }\n",
              "\n",
              "    [theme=dark] .colab-df-convert:hover {\n",
              "      background-color: #434B5C;\n",
              "      box-shadow: 0px 1px 3px 1px rgba(0, 0, 0, 0.15);\n",
              "      filter: drop-shadow(0px 1px 2px rgba(0, 0, 0, 0.3));\n",
              "      fill: #FFFFFF;\n",
              "    }\n",
              "  </style>\n",
              "\n",
              "      <script>\n",
              "        const buttonEl =\n",
              "          document.querySelector('#df-c84a0d69-04a5-44f5-b70f-0a3def947846 button.colab-df-convert');\n",
              "        buttonEl.style.display =\n",
              "          google.colab.kernel.accessAllowed ? 'block' : 'none';\n",
              "\n",
              "        async function convertToInteractive(key) {\n",
              "          const element = document.querySelector('#df-c84a0d69-04a5-44f5-b70f-0a3def947846');\n",
              "          const dataTable =\n",
              "            await google.colab.kernel.invokeFunction('convertToInteractive',\n",
              "                                                     [key], {});\n",
              "          if (!dataTable) return;\n",
              "\n",
              "          const docLinkHtml = 'Like what you see? Visit the ' +\n",
              "            '<a target=\"_blank\" href=https://colab.research.google.com/notebooks/data_table.ipynb>data table notebook</a>'\n",
              "            + ' to learn more about interactive tables.';\n",
              "          element.innerHTML = '';\n",
              "          dataTable['output_type'] = 'display_data';\n",
              "          await google.colab.output.renderOutput(dataTable, element);\n",
              "          const docLink = document.createElement('div');\n",
              "          docLink.innerHTML = docLinkHtml;\n",
              "          element.appendChild(docLink);\n",
              "        }\n",
              "      </script>\n",
              "    </div>\n",
              "  </div>\n",
              "  "
            ]
          },
          "metadata": {},
          "execution_count": 47
        }
      ]
    },
    {
      "cell_type": "markdown",
      "source": [
        "##Net Income - 1 year annualized growth (%)"
      ],
      "metadata": {
        "id": "v0dHtOEIOeia"
      }
    },
    {
      "cell_type": "code",
      "source": [
        "ni = ['NetIncome']\n",
        "net_income = ticker.get_financial_data(ni,'a',trailing=False)\n",
        "net_income['AnnalizedGrwoth'] = net_income['NetIncome'].pct_change()\n",
        "net_income"
      ],
      "metadata": {
        "colab": {
          "base_uri": "https://localhost:8080/",
          "height": 206
        },
        "id": "FMZivPH1OjpJ",
        "outputId": "586bb059-a2a4-49cd-a9fb-54761db0db42"
      },
      "execution_count": 48,
      "outputs": [
        {
          "output_type": "execute_result",
          "data": {
            "text/plain": [
              "         asOfDate periodType currencyCode     NetIncome  AnnalizedGrwoth\n",
              "symbol                                                                  \n",
              "aapl   2019-09-30        12M          USD  5.525600e+10              NaN\n",
              "aapl   2020-09-30        12M          USD  5.741100e+10         0.039000\n",
              "aapl   2021-09-30        12M          USD  9.468000e+10         0.649161\n",
              "aapl   2022-09-30        12M          USD  9.980300e+10         0.054109"
            ],
            "text/html": [
              "\n",
              "  <div id=\"df-9168f522-a42f-4b6c-866e-eb9d194b6d2a\">\n",
              "    <div class=\"colab-df-container\">\n",
              "      <div>\n",
              "<style scoped>\n",
              "    .dataframe tbody tr th:only-of-type {\n",
              "        vertical-align: middle;\n",
              "    }\n",
              "\n",
              "    .dataframe tbody tr th {\n",
              "        vertical-align: top;\n",
              "    }\n",
              "\n",
              "    .dataframe thead th {\n",
              "        text-align: right;\n",
              "    }\n",
              "</style>\n",
              "<table border=\"1\" class=\"dataframe\">\n",
              "  <thead>\n",
              "    <tr style=\"text-align: right;\">\n",
              "      <th></th>\n",
              "      <th>asOfDate</th>\n",
              "      <th>periodType</th>\n",
              "      <th>currencyCode</th>\n",
              "      <th>NetIncome</th>\n",
              "      <th>AnnalizedGrwoth</th>\n",
              "    </tr>\n",
              "    <tr>\n",
              "      <th>symbol</th>\n",
              "      <th></th>\n",
              "      <th></th>\n",
              "      <th></th>\n",
              "      <th></th>\n",
              "      <th></th>\n",
              "    </tr>\n",
              "  </thead>\n",
              "  <tbody>\n",
              "    <tr>\n",
              "      <th>aapl</th>\n",
              "      <td>2019-09-30</td>\n",
              "      <td>12M</td>\n",
              "      <td>USD</td>\n",
              "      <td>5.525600e+10</td>\n",
              "      <td>NaN</td>\n",
              "    </tr>\n",
              "    <tr>\n",
              "      <th>aapl</th>\n",
              "      <td>2020-09-30</td>\n",
              "      <td>12M</td>\n",
              "      <td>USD</td>\n",
              "      <td>5.741100e+10</td>\n",
              "      <td>0.039000</td>\n",
              "    </tr>\n",
              "    <tr>\n",
              "      <th>aapl</th>\n",
              "      <td>2021-09-30</td>\n",
              "      <td>12M</td>\n",
              "      <td>USD</td>\n",
              "      <td>9.468000e+10</td>\n",
              "      <td>0.649161</td>\n",
              "    </tr>\n",
              "    <tr>\n",
              "      <th>aapl</th>\n",
              "      <td>2022-09-30</td>\n",
              "      <td>12M</td>\n",
              "      <td>USD</td>\n",
              "      <td>9.980300e+10</td>\n",
              "      <td>0.054109</td>\n",
              "    </tr>\n",
              "  </tbody>\n",
              "</table>\n",
              "</div>\n",
              "      <button class=\"colab-df-convert\" onclick=\"convertToInteractive('df-9168f522-a42f-4b6c-866e-eb9d194b6d2a')\"\n",
              "              title=\"Convert this dataframe to an interactive table.\"\n",
              "              style=\"display:none;\">\n",
              "        \n",
              "  <svg xmlns=\"http://www.w3.org/2000/svg\" height=\"24px\"viewBox=\"0 0 24 24\"\n",
              "       width=\"24px\">\n",
              "    <path d=\"M0 0h24v24H0V0z\" fill=\"none\"/>\n",
              "    <path d=\"M18.56 5.44l.94 2.06.94-2.06 2.06-.94-2.06-.94-.94-2.06-.94 2.06-2.06.94zm-11 1L8.5 8.5l.94-2.06 2.06-.94-2.06-.94L8.5 2.5l-.94 2.06-2.06.94zm10 10l.94 2.06.94-2.06 2.06-.94-2.06-.94-.94-2.06-.94 2.06-2.06.94z\"/><path d=\"M17.41 7.96l-1.37-1.37c-.4-.4-.92-.59-1.43-.59-.52 0-1.04.2-1.43.59L10.3 9.45l-7.72 7.72c-.78.78-.78 2.05 0 2.83L4 21.41c.39.39.9.59 1.41.59.51 0 1.02-.2 1.41-.59l7.78-7.78 2.81-2.81c.8-.78.8-2.07 0-2.86zM5.41 20L4 18.59l7.72-7.72 1.47 1.35L5.41 20z\"/>\n",
              "  </svg>\n",
              "      </button>\n",
              "      \n",
              "  <style>\n",
              "    .colab-df-container {\n",
              "      display:flex;\n",
              "      flex-wrap:wrap;\n",
              "      gap: 12px;\n",
              "    }\n",
              "\n",
              "    .colab-df-convert {\n",
              "      background-color: #E8F0FE;\n",
              "      border: none;\n",
              "      border-radius: 50%;\n",
              "      cursor: pointer;\n",
              "      display: none;\n",
              "      fill: #1967D2;\n",
              "      height: 32px;\n",
              "      padding: 0 0 0 0;\n",
              "      width: 32px;\n",
              "    }\n",
              "\n",
              "    .colab-df-convert:hover {\n",
              "      background-color: #E2EBFA;\n",
              "      box-shadow: 0px 1px 2px rgba(60, 64, 67, 0.3), 0px 1px 3px 1px rgba(60, 64, 67, 0.15);\n",
              "      fill: #174EA6;\n",
              "    }\n",
              "\n",
              "    [theme=dark] .colab-df-convert {\n",
              "      background-color: #3B4455;\n",
              "      fill: #D2E3FC;\n",
              "    }\n",
              "\n",
              "    [theme=dark] .colab-df-convert:hover {\n",
              "      background-color: #434B5C;\n",
              "      box-shadow: 0px 1px 3px 1px rgba(0, 0, 0, 0.15);\n",
              "      filter: drop-shadow(0px 1px 2px rgba(0, 0, 0, 0.3));\n",
              "      fill: #FFFFFF;\n",
              "    }\n",
              "  </style>\n",
              "\n",
              "      <script>\n",
              "        const buttonEl =\n",
              "          document.querySelector('#df-9168f522-a42f-4b6c-866e-eb9d194b6d2a button.colab-df-convert');\n",
              "        buttonEl.style.display =\n",
              "          google.colab.kernel.accessAllowed ? 'block' : 'none';\n",
              "\n",
              "        async function convertToInteractive(key) {\n",
              "          const element = document.querySelector('#df-9168f522-a42f-4b6c-866e-eb9d194b6d2a');\n",
              "          const dataTable =\n",
              "            await google.colab.kernel.invokeFunction('convertToInteractive',\n",
              "                                                     [key], {});\n",
              "          if (!dataTable) return;\n",
              "\n",
              "          const docLinkHtml = 'Like what you see? Visit the ' +\n",
              "            '<a target=\"_blank\" href=https://colab.research.google.com/notebooks/data_table.ipynb>data table notebook</a>'\n",
              "            + ' to learn more about interactive tables.';\n",
              "          element.innerHTML = '';\n",
              "          dataTable['output_type'] = 'display_data';\n",
              "          await google.colab.output.renderOutput(dataTable, element);\n",
              "          const docLink = document.createElement('div');\n",
              "          docLink.innerHTML = docLinkHtml;\n",
              "          element.appendChild(docLink);\n",
              "        }\n",
              "      </script>\n",
              "    </div>\n",
              "  </div>\n",
              "  "
            ]
          },
          "metadata": {},
          "execution_count": 48
        }
      ]
    },
    {
      "cell_type": "markdown",
      "source": [
        "##Short Interest\n",
        "Short interest is the number of shorted shares divided by the number of shares outstanding."
      ],
      "metadata": {
        "id": "wzWjfvZkBdyz"
      }
    },
    {
      "cell_type": "code",
      "source": [
        "ticker_key_stat = ticker.key_stats[tick]\n",
        "ticker_key_stat.keys()"
      ],
      "metadata": {
        "colab": {
          "base_uri": "https://localhost:8080/"
        },
        "id": "RNJfHNJ5Arr2",
        "outputId": "28e4f205-dc01-4a06-e7d3-acb97995a35e"
      },
      "execution_count": 12,
      "outputs": [
        {
          "output_type": "execute_result",
          "data": {
            "text/plain": [
              "dict_keys(['maxAge', 'priceHint', 'enterpriseValue', 'forwardPE', 'profitMargins', 'floatShares', 'sharesOutstanding', 'sharesShort', 'sharesShortPriorMonth', 'sharesShortPreviousMonthDate', 'dateShortInterest', 'sharesPercentSharesOut', 'heldPercentInsiders', 'heldPercentInstitutions', 'shortRatio', 'shortPercentOfFloat', 'beta', 'impliedSharesOutstanding', 'category', 'bookValue', 'priceToBook', 'fundFamily', 'legalType', 'lastFiscalYearEnd', 'nextFiscalYearEnd', 'mostRecentQuarter', 'earningsQuarterlyGrowth', 'netIncomeToCommon', 'trailingEps', 'forwardEps', 'pegRatio', 'lastSplitFactor', 'lastSplitDate', 'enterpriseToRevenue', 'enterpriseToEbitda', '52WeekChange', 'SandP52WeekChange', 'lastDividendValue', 'lastDividendDate'])"
            ]
          },
          "metadata": {},
          "execution_count": 12
        }
      ]
    },
    {
      "cell_type": "code",
      "source": [
        "short_interest = ticker_key_stat['sharesShort']*100/ticker_key_stat['sharesOutstanding']\n",
        "short_interest"
      ],
      "metadata": {
        "colab": {
          "base_uri": "https://localhost:8080/"
        },
        "id": "FRkRS9KUCfLw",
        "outputId": "b64c27bc-3e36-4bb6-9e14-117e4efc4644"
      },
      "execution_count": 14,
      "outputs": [
        {
          "output_type": "execute_result",
          "data": {
            "text/plain": [
              "0.6985876016064619"
            ]
          },
          "metadata": {},
          "execution_count": 14
        }
      ]
    }
  ]
}